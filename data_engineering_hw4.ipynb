{
 "cells": [
  {
   "cell_type": "code",
   "execution_count": 6,
   "id": "e1ea0b43-6794-4374-b6d5-376186e44772",
   "metadata": {},
   "outputs": [
    {
     "name": "stdout",
     "output_type": "stream",
     "text": [
      "당신의 조선시대 이름은 안칠걸 입니다.\n"
     ]
    }
   ],
   "source": [
    "def get_my_chosun_name(family_name, month, day):\n",
    "    months = ['쌍', '쇠', '복', '돌', '팽', '육', '쌍', '개', '칠', '갑', '삼', '방']\n",
    "    days = ['봉', '구', '욕', '포', '똥', '삼', '식', '석', '놈', '님', '년', '돌', '단', '득', '방', '질', '장', '걸', '래', '룡', '동', '순', '자', '박', '창', '언', '것', '포', '만', '단', '국']\n",
    "\n",
    "    for i in range(len(months)):\n",
    "        if month == i:\n",
    "            sec_name = months[i-1]\n",
    "            \n",
    "    for j in range(len(days)):\n",
    "        if day == j:\n",
    "            thrd_name = days[j-1]\n",
    "            \n",
    "    name = family_name + sec_name + thrd_name\n",
    "            \n",
    "    return (name)\n",
    "\n",
    "your_name = get_my_chosun_name('안', 9, 18)\n",
    "\n",
    "print(\"당신의 조선시대 이름은 \"+your_name+\" 입니다.\")"
   ]
  }
 ],
 "metadata": {
  "kernelspec": {
   "display_name": "Python 3 (ipykernel)",
   "language": "python",
   "name": "python3"
  },
  "language_info": {
   "codemirror_mode": {
    "name": "ipython",
    "version": 3
   },
   "file_extension": ".py",
   "mimetype": "text/x-python",
   "name": "python",
   "nbconvert_exporter": "python",
   "pygments_lexer": "ipython3",
   "version": "3.9.13"
  }
 },
 "nbformat": 4,
 "nbformat_minor": 5
}
